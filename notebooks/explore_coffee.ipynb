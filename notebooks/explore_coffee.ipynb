{
 "cells": [
  {
   "cell_type": "markdown",
   "id": "63d0a69d",
   "metadata": {},
   "source": [
    "# Explore Coffee\n",
    "\n",
    "Create your own EDA below! Create as many code-blocks as you need.\n",
    "\n",
    "Once you've completed your EDA, complete the section titled **Reflections** where you will answer questions about your EDA."
   ]
  },
  {
   "cell_type": "code",
   "execution_count": 1,
   "id": "6655a736",
   "metadata": {},
   "outputs": [],
   "source": [
    "import pandas as pd \n",
    "import numpy as np\n",
    "\n",
    "import seaborn as sns\n",
    "import matplotlib.pyplot as plt"
   ]
  },
  {
   "cell_type": "code",
   "execution_count": 2,
   "id": "868ea7cd",
   "metadata": {},
   "outputs": [],
   "source": [
    "# import data\n",
    "coffee = pd.read_csv(\"../data/crop/coffee_output.csv\")"
   ]
  },
  {
   "cell_type": "code",
   "execution_count": null,
   "id": "a7c1799e",
   "metadata": {},
   "outputs": [
    {
     "data": {
      "text/html": [
       "<div>\n",
       "<style scoped>\n",
       "    .dataframe tbody tr th:only-of-type {\n",
       "        vertical-align: middle;\n",
       "    }\n",
       "\n",
       "    .dataframe tbody tr th {\n",
       "        vertical-align: top;\n",
       "    }\n",
       "\n",
       "    .dataframe thead th {\n",
       "        text-align: right;\n",
       "    }\n",
       "</style>\n",
       "<table border=\"1\" class=\"dataframe\">\n",
       "  <thead>\n",
       "    <tr style=\"text-align: right;\">\n",
       "      <th></th>\n",
       "      <th>country</th>\n",
       "      <th>subdivision</th>\n",
       "      <th>type</th>\n",
       "      <th>60kgs_bag</th>\n",
       "      <th>year</th>\n",
       "      <th>nonbearing_trees</th>\n",
       "      <th>bearing_trees</th>\n",
       "      <th>nonbear_hectares</th>\n",
       "      <th>bearing_hectares</th>\n",
       "      <th>bearing_trees_per_hectare</th>\n",
       "      <th>nonbearing_trees_per_hectare</th>\n",
       "    </tr>\n",
       "  </thead>\n",
       "  <tbody>\n",
       "    <tr>\n",
       "      <th>0</th>\n",
       "      <td>Brazil</td>\n",
       "      <td>Minas Gerais</td>\n",
       "      <td>Arabica</td>\n",
       "      <td>16.2</td>\n",
       "      <td>2002</td>\n",
       "      <td>1500.0</td>\n",
       "      <td>4465.0</td>\n",
       "      <td>495.0</td>\n",
       "      <td>2120.0</td>\n",
       "      <td>2106.0</td>\n",
       "      <td>3030.0</td>\n",
       "    </tr>\n",
       "    <tr>\n",
       "      <th>1</th>\n",
       "      <td>Brazil</td>\n",
       "      <td>Espirito Santo</td>\n",
       "      <td>Arabica</td>\n",
       "      <td>2.2</td>\n",
       "      <td>2002</td>\n",
       "      <td>1500.0</td>\n",
       "      <td>4465.0</td>\n",
       "      <td>495.0</td>\n",
       "      <td>2120.0</td>\n",
       "      <td>2106.0</td>\n",
       "      <td>3030.0</td>\n",
       "    </tr>\n",
       "    <tr>\n",
       "      <th>2</th>\n",
       "      <td>Brazil</td>\n",
       "      <td>Espirito Santo</td>\n",
       "      <td>Robusta</td>\n",
       "      <td>7.5</td>\n",
       "      <td>2002</td>\n",
       "      <td>1500.0</td>\n",
       "      <td>4465.0</td>\n",
       "      <td>495.0</td>\n",
       "      <td>2120.0</td>\n",
       "      <td>2106.0</td>\n",
       "      <td>3030.0</td>\n",
       "    </tr>\n",
       "    <tr>\n",
       "      <th>3</th>\n",
       "      <td>Brazil</td>\n",
       "      <td>Sao Paulo</td>\n",
       "      <td>Arabica</td>\n",
       "      <td>3.2</td>\n",
       "      <td>2002</td>\n",
       "      <td>1500.0</td>\n",
       "      <td>4465.0</td>\n",
       "      <td>495.0</td>\n",
       "      <td>2120.0</td>\n",
       "      <td>2106.0</td>\n",
       "      <td>3030.0</td>\n",
       "    </tr>\n",
       "    <tr>\n",
       "      <th>4</th>\n",
       "      <td>Brazil</td>\n",
       "      <td>Parana</td>\n",
       "      <td>Arabica</td>\n",
       "      <td>0.5</td>\n",
       "      <td>2002</td>\n",
       "      <td>1500.0</td>\n",
       "      <td>4465.0</td>\n",
       "      <td>495.0</td>\n",
       "      <td>2120.0</td>\n",
       "      <td>2106.0</td>\n",
       "      <td>3030.0</td>\n",
       "    </tr>\n",
       "  </tbody>\n",
       "</table>\n",
       "</div>"
      ],
      "text/plain": [
       "  country     subdivision     type  60kgs_bag  year  nonbearing_trees  \\\n",
       "0  Brazil    Minas Gerais  Arabica       16.2  2002            1500.0   \n",
       "1  Brazil  Espirito Santo  Arabica        2.2  2002            1500.0   \n",
       "2  Brazil  Espirito Santo  Robusta        7.5  2002            1500.0   \n",
       "3  Brazil       Sao Paulo  Arabica        3.2  2002            1500.0   \n",
       "4  Brazil          Parana  Arabica        0.5  2002            1500.0   \n",
       "\n",
       "   bearing_trees  nonbear_hectares  bearing_hectares  \\\n",
       "0         4465.0             495.0            2120.0   \n",
       "1         4465.0             495.0            2120.0   \n",
       "2         4465.0             495.0            2120.0   \n",
       "3         4465.0             495.0            2120.0   \n",
       "4         4465.0             495.0            2120.0   \n",
       "\n",
       "   bearing_trees_per_hectare  nonbearing_trees_per_hectare  \n",
       "0                     2106.0                        3030.0  \n",
       "1                     2106.0                        3030.0  \n",
       "2                     2106.0                        3030.0  \n",
       "3                     2106.0                        3030.0  \n",
       "4                     2106.0                        3030.0  "
      ]
     },
     "execution_count": 3,
     "metadata": {},
     "output_type": "execute_result"
    }
   ],
   "source": [
    "# TODO: view first 5 rows of your data\n",
    "coffee.tail()"
   ]
  },
  {
   "cell_type": "code",
   "execution_count": null,
   "id": "83e6ecbd",
   "metadata": {},
   "outputs": [],
   "source": [
    "# TODO: describe your numeric columns\n",
    "..."
   ]
  },
  {
   "cell_type": "code",
   "execution_count": null,
   "id": "ab0c8b1f",
   "metadata": {},
   "outputs": [],
   "source": [
    "# TODO: display the null values in your dataframe\n",
    "..."
   ]
  },
  {
   "cell_type": "code",
   "execution_count": null,
   "id": "52ba0572",
   "metadata": {},
   "outputs": [],
   "source": [
    "# TODO: drop your null values\n",
    "..."
   ]
  },
  {
   "cell_type": "code",
   "execution_count": null,
   "id": "71bfd191",
   "metadata": {},
   "outputs": [],
   "source": [
    "# TODO: Select only Minas Gerais\n",
    "\n",
    "..."
   ]
  },
  {
   "cell_type": "code",
   "execution_count": null,
   "id": "22fd1940",
   "metadata": {},
   "outputs": [],
   "source": [
    "# TODO: BEGIN YOUR EDA!\n",
    "\n"
   ]
  },
  {
   "cell_type": "markdown",
   "id": "a33e1db5",
   "metadata": {},
   "source": [
    "## Reflections\n",
    "\n",
    "Answer each question based on the visualizations that you've generated.\n",
    "\n",
    "Remember, you must justify your answers with proof! Look back to W6D3 for more context."
   ]
  },
  {
   "cell_type": "markdown",
   "id": "fe46532b",
   "metadata": {},
   "source": [
    "How is bearing trees changing across the years for Minas Gerais? Is this increasing or decreasing? What is the distribution of this variable? Is it normal?\n",
    "\n",
    "Answer here"
   ]
  },
  {
   "cell_type": "markdown",
   "id": "ccd4f1e8",
   "metadata": {},
   "source": [
    "How is bearing hectares changing across the years for Minas Gerais? Is this increasing or decreasing? What is the distribution of this variable? Is it normal?\n",
    "\n",
    "Answer here"
   ]
  },
  {
   "cell_type": "markdown",
   "id": "0b500aa4",
   "metadata": {},
   "source": [
    "How is the count of million 60kgs bags of coffee changing across the years for Minas Gerais? Is this increasing or decreasing? What is the distribution of this variable? Is it normal?\n",
    "\n",
    "Answer here"
   ]
  },
  {
   "cell_type": "markdown",
   "id": "be3dab9c",
   "metadata": {},
   "source": [
    "What is the relationship between bearing_trees and 60kgs_bag? How *strong* is this relationship? Use pearson's correlation coefficient.\n",
    "\n",
    "Answer here"
   ]
  },
  {
   "cell_type": "markdown",
   "id": "ee6ea06a",
   "metadata": {},
   "source": [
    "What is the relationship between bearing_hectares and 60kgs_bag? How *strong* is this relationship? Use pearson's correlation coefficient.\n",
    "\n",
    "Answer here"
   ]
  }
 ],
 "metadata": {
  "kernelspec": {
   "display_name": "ds",
   "language": "python",
   "name": "python3"
  },
  "language_info": {
   "codemirror_mode": {
    "name": "ipython",
    "version": 3
   },
   "file_extension": ".py",
   "mimetype": "text/x-python",
   "name": "python",
   "nbconvert_exporter": "python",
   "pygments_lexer": "ipython3",
   "version": "3.12.9"
  }
 },
 "nbformat": 4,
 "nbformat_minor": 5
}
